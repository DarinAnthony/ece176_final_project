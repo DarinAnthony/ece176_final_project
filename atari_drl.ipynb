{
 "cells": [
  {
   "cell_type": "code",
   "execution_count": null,
   "metadata": {
    "vscode": {
     "languageId": "plaintext"
    }
   },
   "outputs": [],
   "source": [
    "import torch\n",
    "print(\"GPU Available:\", torch.cuda.is_available())\n",
    "\n",
    "\n",
    "!pip install gymnasium stable-baselines3 imageio gym-minigrid matplotlib opencv-python\n",
    "\n",
    "!pip install gym-minigrid\n",
    "\n",
    "!pip install --no-cache-dir --no-binary :all: --no-deps vizdoom gymnasium[box2d]\n",
    "\n",
    "\n",
    "import vizdoom\n",
    "print(\"VizDoom installed successfully!\")\n",
    "\n",
    "!apt-get update\n",
    "!apt-get install -y libglu1-mesa libxi6 libgl1-mesa-glx\n",
    "\n",
    "import gymnasium as gym\n",
    "import vizdoom as vzd\n",
    "\n",
    "# Create VizDoom environment\n",
    "env = gym.make(\"VizdoomBasic-v0\", render_mode=\"rgb_array\")\n",
    "\n",
    "# Reset the environment\n",
    "obs, info = env.reset()\n",
    "\n",
    "# Render and display image\n",
    "plt.imshow(obs)\n",
    "plt.title(\"VizDoom Environment\")\n",
    "plt.show()\n",
    "\n",
    "\n",
    "import gymnasium as gym\n",
    "import gym_minigrid\n",
    "import matplotlib.pyplot as plt\n",
    "\n",
    "# Create MiniGrid environment\n",
    "env = gym.make(\"MiniGrid-Empty-5x5-v0\", render_mode=\"rgb_array\")\n",
    "\n",
    "# Reset the environment\n",
    "obs, info = env.reset()\n",
    "\n",
    "# Render and display image\n",
    "plt.imshow(obs)\n",
    "plt.title(\"MiniGrid Environment\")\n",
    "plt.show()\n"
   ]
  },
  {
   "cell_type": "code",
   "execution_count": null,
   "metadata": {
    "vscode": {
     "languageId": "plaintext"
    }
   },
   "outputs": [],
   "source": []
  }
 ],
 "metadata": {
  "language_info": {
   "name": "python"
  }
 },
 "nbformat": 4,
 "nbformat_minor": 2
}
