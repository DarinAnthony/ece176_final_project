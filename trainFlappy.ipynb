{
 "cells": [
  {
   "cell_type": "code",
   "execution_count": null,
   "metadata": {},
   "outputs": [],
   "source": [
    "from google.colab import drive\n",
    "import os\n",
    "\n",
    "drive.mount('/content/drive', force_remount=True)\n",
    "os.chdir('/content/drive/My Drive/projects/ece176_final_project')\n",
    "\n",
    "# !pip3 install -r requirements.txt"
   ]
  },
  {
   "cell_type": "code",
   "execution_count": null,
   "metadata": {},
   "outputs": [],
   "source": [
    "# Set memory allocation configuration\n",
    "os.environ['PYTORCH_CUDA_ALLOC_CONF'] = 'expandable_segments:True'"
   ]
  },
  {
   "cell_type": "code",
   "execution_count": null,
   "metadata": {},
   "outputs": [],
   "source": [
    "import gymnasium as gym\n",
    "from flappy_bird_env import flappy_bird_env\n",
    "from gymnasium.envs.registration import register\n",
    "import torch\n",
    "import numpy as np\n",
    "import matplotlib.pyplot as plt\n",
    "import os\n",
    "\n",
    "# Import your modules\n",
    "from utils.flappyPreprocessor import FlappyBirdPreprocessor\n",
    "from models.flappyModel import FlappyBirdDQN\n",
    "from utils.replayBuffer import SequentialGPUReplayBuffer\n",
    "from agents.flappyAgent import FlappyAgent\n"
   ]
  },
  {
   "cell_type": "code",
   "execution_count": null,
   "metadata": {},
   "outputs": [],
   "source": [
    "# Register FlappyBird environment if not already registered\n",
    "try:\n",
    "    register(\n",
    "        id=\"FlappyBird-v0\",\n",
    "        entry_point=\"flappy_bird_env.flappy_bird_env:FlappyBirdEnv\",\n",
    "        max_episode_steps=1000,\n",
    "    )\n",
    "except:\n",
    "    pass  # Already registered"
   ]
  },
  {
   "cell_type": "code",
   "execution_count": null,
   "metadata": {},
   "outputs": [],
   "source": [
    "def train_flappy_bird_dqn(num_frames=1000000,\n",
    "                    memory_size=100000,\n",
    "                    batch_size=32,\n",
    "                    gamma=0.99,\n",
    "                    eps_start=1.0,\n",
    "                    eps_end=0.1,\n",
    "                    eps_decay=250000,\n",
    "                    target_update=5000,\n",
    "                    learning_rate=0.0025,\n",
    "                    update_freq=4,\n",
    "                    replay_start_size=10000,\n",
    "                    no_op_max=5,\n",
    "                    eval_interval=50000,\n",
    "                    save_interval=100000):\n",
    "    \"\"\"\n",
    "    Train a DQN agent to play Flappy Bird.\n",
    "    \"\"\"\n",
    "    # 1. Environment setup\n",
    "    env = gym.make(\"FlappyBird-v0\", render_mode=\"rgb_array\")\n",
    "    \n",
    "    # Set device\n",
    "    device = None\n",
    "    if torch.cuda.is_available():\n",
    "        device = torch.device(\"cuda\")\n",
    "    elif torch.backends.mps.is_available():\n",
    "        device = torch.device(\"mps\")\n",
    "    else:\n",
    "        device = torch.device(\"cpu\")\n",
    "    print(f\"Using device: {device}\")\n",
    "    \n",
    "    # 3. Create the agent\n",
    "    agent = FlappyAgent(\n",
    "        env=env,\n",
    "        replayBufferClass=SequentialGPUReplayBuffer,\n",
    "        frameShape=(4, 84, 84),\n",
    "        QNetwork=FlappyBirdDQN,\n",
    "        PreprocessorClass=FlappyBirdPreprocessor,\n",
    "        device=device,\n",
    "        memory_size=memory_size,\n",
    "        batch_size=batch_size,\n",
    "        gamma=gamma,\n",
    "        eps_start=eps_start,\n",
    "        eps_end=eps_end,\n",
    "        eps_decay=eps_decay,\n",
    "        target_update=target_update,\n",
    "        learning_rate=learning_rate,\n",
    "        update_freq=update_freq,\n",
    "        replay_start_size=replay_start_size,\n",
    "        no_op_max=no_op_max,\n",
    "        eval_interval=eval_interval,\n",
    "        save_interval=save_interval\n",
    "    )\n",
    "\n",
    "    # 4. Train\n",
    "    print(f\"Starting FlappyBird DQN training for {num_frames} frames...\")\n",
    "    \n",
    "    episode_rewards, eval_rewards = agent.train(num_frames=num_frames)\n",
    "    print(\"Training completed!\")\n",
    "    \n",
    "    # 5. Plot training episode rewards\n",
    "    os.makedirs(\"train_runs\", exist_ok=True)\n",
    "    plt.figure(figsize=(12,6))\n",
    "    plt.plot(episode_rewards, label=\"Episode Reward\")\n",
    "    plt.title(\"FlappyBird DQN Training Rewards\")\n",
    "    plt.xlabel(\"Episode\")\n",
    "    plt.ylabel(\"Reward\")\n",
    "    plt.legend()\n",
    "    plt.grid(True)\n",
    "    plt.savefig(\"train_runs/flappy_bird_dqn_training_rewards.png\")\n",
    "    plt.close()\n",
    "\n",
    "    # 6. Evaluate\n",
    "    eval_score = agent.evaluate(num_episodes=5)\n",
    "    print(f\"Evaluation over 5 episodes: {eval_score:.2f} average reward\")\n",
    "\n",
    "    # 7. Clean up\n",
    "    env.close()"
   ]
  },
  {
   "cell_type": "markdown",
   "metadata": {},
   "source": [
    "Quick training test"
   ]
  },
  {
   "cell_type": "code",
   "execution_count": null,
   "metadata": {},
   "outputs": [],
   "source": [
    "train_flappy_bird_dqn(num_frames=5000,\n",
    "                    memory_size=50000,\n",
    "                    batch_size=32,\n",
    "                    gamma=0.99,\n",
    "                    eps_start=1.0,\n",
    "                    eps_end=0.1,\n",
    "                    eps_decay=5000,\n",
    "                    target_update=1000,\n",
    "                    learning_rate=0.001,\n",
    "                    update_freq=4,\n",
    "                    replay_start_size=500,\n",
    "                    no_op_max=5,\n",
    "                    eval_interval=2500,\n",
    "                    save_interval=25000)"
   ]
  },
  {
   "cell_type": "markdown",
   "metadata": {},
   "source": [
    "Full training"
   ]
  },
  {
   "cell_type": "code",
   "execution_count": null,
   "metadata": {},
   "outputs": [],
   "source": [
    "train_flappy_bird_dqn(num_frames=1000000,\n",
    "                   memory_size=200000,         # Increased from 100,000\n",
    "                   batch_size=32,\n",
    "                   gamma=0.99,\n",
    "                   eps_start=1.0,\n",
    "                   eps_end=0.1,\n",
    "                   eps_decay=250000,\n",
    "                   target_update=5000,\n",
    "                   learning_rate=0.00025,      # Recommended standard value\n",
    "                   update_freq=4,\n",
    "                   replay_start_size=10000,\n",
    "                   no_op_max=5)"
   ]
  }
 ],
 "metadata": {
  "language_info": {
   "name": "python"
  }
 },
 "nbformat": 4,
 "nbformat_minor": 2
}
