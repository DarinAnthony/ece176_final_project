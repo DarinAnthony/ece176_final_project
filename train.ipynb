{
 "cells": [
  {
   "cell_type": "code",
   "execution_count": null,
   "metadata": {},
   "outputs": [],
   "source": [
    "from google.colab import drive\n",
    "import os\n",
    "\n",
    "drive.mount('/content/drive')\n",
    "os.chdir('/content/drive/My Drive/projects/ece176_final_project')\n",
    "\n",
    "# !pip3 install -r requirements.txt"
   ]
  },
  {
   "cell_type": "code",
   "execution_count": null,
   "metadata": {},
   "outputs": [],
   "source": [
    "import torch\n",
    "import numpy as np\n",
    "import gymnasium as gym\n",
    "import ale_py\n",
    "import matplotlib.pyplot as plt\n",
    "import os\n",
    "\n",
    "# Import your modules\n",
    "from utils.preprocessor import DQNPreprocessor\n",
    "from models.base import DQN\n",
    "from models.dqn2015 import DQN2\n",
    "from utils.replayBuffer import ReplayBuffer\n",
    "from agents.base import DQNAgent\n",
    "from utils.visualizer import DQNVisualizer"
   ]
  },
  {
   "cell_type": "code",
   "execution_count": null,
   "metadata": {},
   "outputs": [],
   "source": [
    "def train_breakout_dqn(num_frames=10000000,\n",
    "                    memory_size=500000,          # Smaller replay buffer\n",
    "                    batch_size=32,\n",
    "                    gamma=0.99,\n",
    "                    eps_start=1.0,\n",
    "                    eps_end=0.1,\n",
    "                    eps_decay=250000,             # Very fast epsilon decay\n",
    "                    target_update=5000,          # Update target network frequently\n",
    "                    learning_rate=0.0025,       # Slightly higher learning rate\n",
    "                    update_freq=4,\n",
    "                    replay_start_size=25000,     # Start training after just 1000 frames\n",
    "                    no_op_max=5,\n",
    "                    eval_interval=250000,\n",
    "                    save_interval=500000):\n",
    "    \"\"\"\n",
    "    Short test training of a DQN agent on Breakout.\n",
    "    \"\"\"\n",
    "    # 1. Environment setup\n",
    "    env_name = \"ALE/Breakout-v5\"\n",
    "    env = gym.make(env_name)\n",
    "    \n",
    "    # Force CPU usage\n",
    "    device = torch.device(\"cpu\")\n",
    "    print(f\"Using device: {device}\")\n",
    "    \n",
    "    # 2. Create the agent with minimized hyperparameters\n",
    "    agent = DQNAgent(\n",
    "        env=env,\n",
    "        replayBufferClass=ReplayBuffer,\n",
    "        QNetwork=DQN2,\n",
    "        PreprocessorClass=DQNPreprocessor,\n",
    "        device=device,\n",
    "        memory_size=memory_size,          # Smaller replay buffer\n",
    "        batch_size=batch_size,\n",
    "        gamma=gamma,\n",
    "        eps_start=eps_start,\n",
    "        eps_end=eps_end,\n",
    "        eps_decay=eps_decay,             # Very fast epsilon decay\n",
    "        target_update=target_update,          # Update target network frequently\n",
    "        learning_rate=learning_rate,       # Slightly higher learning rate\n",
    "        update_freq=update_freq,\n",
    "        replay_start_size=replay_start_size,     # Start training after just 1000 frames\n",
    "        no_op_max=no_op_max,                # Fewer no-ops at start of episode\n",
    "        eval_interval=eval_interval,\n",
    "        save_interval=save_interval\n",
    "    )\n",
    "\n",
    "    # 3. Train for a small number of frames\n",
    "    print(f\"Starting quick test training for {num_frames} frames...\")\n",
    "    \n",
    "    episode_rewards, eval_rewards = agent.train(num_frames=num_frames)\n",
    "    print(\"Training completed!\")\n",
    "    \n",
    "    # 4. Plot training episode rewards\n",
    "    os.makedirs(\"train_runs\", exist_ok=True)\n",
    "    plt.figure(figsize=(12,6))\n",
    "    plt.plot(episode_rewards, label=\"Episode Reward\")\n",
    "    plt.title(\"Training Rewards over Episodes\")\n",
    "    plt.xlabel(\"Episode\")\n",
    "    plt.ylabel(\"Reward\")\n",
    "    plt.legend()\n",
    "    plt.grid(True)\n",
    "    plt.savefig(\"train_runs/breakout_dqn_test_training_rewards.png\")\n",
    "    plt.close()\n",
    "\n",
    "    # 5. Quick evaluation - just 3 episodes\n",
    "    eval_score = agent.evaluate(num_episodes=3)\n",
    "    print(f\"Evaluation over 3 episodes: {eval_score:.2f} average reward\")\n",
    "\n",
    "    # 6. Clean up\n",
    "    env.close()"
   ]
  },
  {
   "cell_type": "markdown",
   "metadata": {},
   "source": [
    "Test training with minimial parameters"
   ]
  },
  {
   "cell_type": "code",
   "execution_count": null,
   "metadata": {},
   "outputs": [],
   "source": [
    "train_breakout_dqn(num_frames=2000,\n",
    "        memory_size=10000,          # Smaller replay buffer\n",
    "        batch_size=32,\n",
    "        gamma=0.99,\n",
    "        eps_start=1.0,\n",
    "        eps_end=0.1,\n",
    "        eps_decay=2000,             # Very fast epsilon decay\n",
    "        target_update=500,          # Update target network frequently\n",
    "        learning_rate=0.0025,       # Slightly higher learning rate\n",
    "        update_freq=4,\n",
    "        replay_start_size=1000,     # Start training after just 1000 frames\n",
    "        no_op_max=5)"
   ]
  },
  {
   "cell_type": "markdown",
   "metadata": {},
   "source": [
    "Full training for 10 million frames"
   ]
  },
  {
   "cell_type": "code",
   "execution_count": null,
   "metadata": {},
   "outputs": [],
   "source": [
    "train_breakout_dqn(num_frames=10000000,\n",
    "                    memory_size=1000000,         \n",
    "                    batch_size=32,\n",
    "                    gamma=0.99,\n",
    "                    eps_start=1.0,\n",
    "                    eps_end=0.1,\n",
    "                    eps_decay=250000,             \n",
    "                    target_update=5000,          \n",
    "                    learning_rate=0.00025,       \n",
    "                    update_freq=4,\n",
    "                    replay_start_size=25000,\n",
    "                    no_op_max=30,\n",
    "                    eval_interval=250000,\n",
    "                    save_interval=500000)"
   ]
  }
 ],
 "metadata": {
  "language_info": {
   "name": "python"
  }
 },
 "nbformat": 4,
 "nbformat_minor": 2
}
